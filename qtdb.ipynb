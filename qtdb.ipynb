{
 "cells": [
  {
   "cell_type": "code",
   "execution_count": 1,
   "metadata": {
    "collapsed": true
   },
   "outputs": [],
   "source": [
    "%matplotlib inline\n",
    "\n",
    "import os\n",
    "import numpy as np\n",
    "import matplotlib.pyplot as plt\n",
    "from scipy import signal as sg\n",
    "from collections import Counter\n",
    "import wfdb"
   ]
  },
  {
   "cell_type": "code",
   "execution_count": 2,
   "metadata": {
    "collapsed": true
   },
   "outputs": [],
   "source": [
    "# Contents of dataset\n",
    "file_list = os.listdir(os.getcwd() + '/qtdb')"
   ]
  },
  {
   "cell_type": "markdown",
   "metadata": {},
   "source": [
    "## Loading Signal Data\n",
    "\n",
    "Each set file corresponds to one of the 105 record in the database. Each record consists of 15-minute recordings sampled at 250 hertz, resulting in 225000 samples. Each record has 2 channels, resulting in a signal shape of (225000, 2)"
   ]
  },
  {
   "cell_type": "code",
   "execution_count": 3,
   "metadata": {
    "collapsed": false
   },
   "outputs": [
    {
     "data": {
      "text/plain": [
       "[<matplotlib.lines.Line2D at 0x123f8ccbbe0>]"
      ]
     },
     "execution_count": 3,
     "metadata": {},
     "output_type": "execute_result"
    },
    {
     "data": {
      "image/png": "[encoded data removed]",
      "text/plain": [
       "<matplotlib.figure.Figure at 0x123f8ccbc18>"
      ]
     },
     "metadata": {},
     "output_type": "display_data"
    }
   ],
   "source": [
    "record_id = 'qtdb/sel100'\n",
    "\n",
    "record = wfdb.rdrecord(record_id)\n",
    "signal = record.p_signal\n",
    "\n",
    "# Number of samples per record (225000)\n",
    "samples_per_record = signal.shape[0]\n",
    "\n",
    "# Number of samples in each training instance\n",
    "sample_size = 300\n",
    "\n",
    "# Number of signal channels (2)\n",
    "n_channels = signal.shape[1]\n",
    "\n",
    "# plotting first 300 samples of record\n",
    "plt.plot(signal[:, 0][:900])\n",
    "plt.plot(signal[:, 1][:900])"
   ]
  },
  {
   "cell_type": "code",
   "execution_count": null,
   "metadata": {
    "collapsed": true
   },
   "outputs": [],
   "source": []
  },
  {
   "cell_type": "markdown",
   "metadata": {},
   "source": [
    "## Loading Annotations"
   ]
  },
  {
   "cell_type": "code",
   "execution_count": 4,
   "metadata": {
    "collapsed": true
   },
   "outputs": [],
   "source": [
    "# Signal File: .dat\n",
    "# Beat Annotation File: .atr\n",
    "# Wave Marker File: pu0 (channel 0) and pu1 (channel 1)\n",
    "\n",
    "## Beat annotations are used to extract caridac complexes from the original wave. The extracted cardiac complexes should be padded to 300\n",
    "## Each beat annotation corresponds to peak point of of the wave\n",
    "# .atr    reference beat annotations from original database (not available in all cases) [IMPORTANT]\n",
    "# .man    reference beat annotations [for selected beats only]\n",
    "\n",
    "## Waveform position annotations\n",
    "# .qt1    manually determined waveform boundary measurements for selected beats (annotator 1 only -- first pass)\n",
    "# .q1c    manually determined waveform boundary measurements for selected beats (annotator 1 only -- second pass)\n",
    "# .pu     automatically determined waveform boundary measurements for all beats (based on both signals) \n",
    "# .pu0    automatically determined waveform boundary measurements for all beats (based on signal 0 only) [IMPORTANT]\n",
    "# .pu1   automatically determined waveform boundary measurements for all beats (based on signal 1 only) [IMPORTANT]"
   ]
  },
  {
   "cell_type": "code",
   "execution_count": 5,
   "metadata": {
    "collapsed": true
   },
   "outputs": [],
   "source": [
    "# Get beat annotations\n",
    "\n",
    "beat_annotation = wfdb.rdann(record_id, extension ='atr')\n",
    "beat_samples = beat_annotation.sample\n",
    "\n",
    "# Computing Begin and End points of each interval from beat annotations\n",
    "intervals = []\n",
    "intervals.append(0)\n",
    "for i in range(len(beat_samples)-1):\n",
    "    intervals.append(int((beat_samples[i] + beat_samples[i+1])/2))\n",
    "offset = intervals[1]-1\n",
    "\n",
    "# Get wave annotations\n",
    "pos_annotation = wfdb.rdann(record_id, extension ='pu0')\n",
    "label_ids = np.array(pos_annotation.sample)\n",
    "symbols = np.array(pos_annotation.symbol)\n",
    "\n",
    "labels = list(zip(pos_annotation.sample, pos_annotation.symbol))"
   ]
  },
  {
   "cell_type": "code",
   "execution_count": null,
   "metadata": {
    "collapsed": true
   },
   "outputs": [],
   "source": []
  },
  {
   "cell_type": "code",
   "execution_count": 6,
   "metadata": {
    "collapsed": true
   },
   "outputs": [],
   "source": [
    "# Generate Input Vector\n",
    "X = []\n",
    "for i in range(0,len(intervals)-1):\n",
    "    # Extract sample from interval values\n",
    "    sample = signal[:,0][intervals[i]: intervals[i+1]]    \n",
    "    # Pad sample to 300\n",
    "    pad_length = sample_size - len(sample)\n",
    "    #pad_value = np.min(sample)\n",
    "    pad_value = sample[-1]\n",
    "    sample = np.concatenate([sample, np.repeat(pad_value, pad_length)])\n",
    "    sample_concat = np.zeros(300)\n",
    "    sample_concat[:len(sample)] = sample\n",
    "    sample_concat[len(sample):] = sample[-1]\n",
    "    \n",
    "    # Removing Baseline drift using median filter (given sampling frequency 250hz)\n",
    "    sample_concat = sample_concat - sg.medfilt(sample_concat, 125)\n",
    "    X.append(sample_concat)\n",
    "X = np.array(X)"
   ]
  },
  {
   "cell_type": "code",
   "execution_count": null,
   "metadata": {
    "collapsed": true
   },
   "outputs": [],
   "source": []
  },
  {
   "cell_type": "code",
   "execution_count": 7,
   "metadata": {
    "collapsed": true
   },
   "outputs": [],
   "source": [
    "# Generate target vector\n",
    "\n",
    "y = []\n",
    "for i in range(0, len(intervals)-1):\n",
    "    \n",
    "    start = intervals[i]\n",
    "    end = intervals[i+1]\n",
    "    label_ids_ = label_ids[(label_ids>start) & (label_ids<=end)]\n",
    "    symbols_ = symbols[np.where((label_ids>start) & (label_ids<=end))[0]]\n",
    "    label_ids_ = label_ids_ - start\n",
    "    target = np.zeros(3)\n",
    "    if 'p' in symbols_:\n",
    "        target[0] = label_ids_[np.min(np.argwhere(symbols_=='p'))] / 300\n",
    "    else:\n",
    "        target[0] = 0.0\n",
    "    if 'N' in symbols_:\n",
    "        target[1] = label_ids_[np.min(np.argwhere(symbols_=='N'))] / 300\n",
    "    else:\n",
    "        target[1] = 0.0\n",
    "    if 't' in symbols_:\n",
    "        target[2] = label_ids_[np.max(np.argwhere(symbols_=='t'))] / 300\n",
    "    else:\n",
    "        target[2] = 0.0\n",
    "    y.append(target)\n",
    "y = np.array(y)"
   ]
  },
  {
   "cell_type": "code",
   "execution_count": null,
   "metadata": {
    "collapsed": true
   },
   "outputs": [],
   "source": []
  },
  {
   "cell_type": "code",
   "execution_count": 10,
   "metadata": {
    "collapsed": false
   },
   "outputs": [
    {
     "name": "stderr",
     "output_type": "stream",
     "text": [
      "C:\\ProgramData\\Anaconda3\\lib\\site-packages\\h5py\\__init__.py:34: FutureWarning: Conversion of the second argument of issubdtype from `float` to `np.floating` is deprecated. In future, it will be treated as `np.float64 == np.dtype(float).type`.\n",
      "  from ._conv import register_converters as _register_converters\n",
      "Using TensorFlow backend.\n"
     ]
    }
   ],
   "source": [
    "from sklearn.model_selection import train_test_split\n",
    "from keras.models import Sequential\n",
    "from keras.layers import Dense, Conv1D, MaxPool1D, Dropout, Reshape, Flatten"
   ]
  },
  {
   "cell_type": "code",
   "execution_count": 11,
   "metadata": {
    "collapsed": true
   },
   "outputs": [],
   "source": [
    "# Perform train test split\n",
    "X_train, X_test, y_train, y_test = train_test_split(X, y, test_size=0.33, random_state=42)"
   ]
  },
  {
   "cell_type": "code",
   "execution_count": null,
   "metadata": {
    "collapsed": true
   },
   "outputs": [],
   "source": []
  },
  {
   "cell_type": "code",
   "execution_count": 14,
   "metadata": {
    "collapsed": false
   },
   "outputs": [
    {
     "name": "stdout",
     "output_type": "stream",
     "text": [
      "Epoch 1/10\n",
      "759/759 [==============================] - 0s 253us/step - loss: 0.0171\n",
      "Epoch 2/10\n",
      "759/759 [==============================] - 0s 59us/step - loss: 0.0033\n",
      "Epoch 3/10\n",
      "759/759 [==============================] - 0s 66us/step - loss: 0.0025\n",
      "Epoch 4/10\n",
      "759/759 [==============================] - 0s 63us/step - loss: 0.0024\n",
      "Epoch 5/10\n",
      "759/759 [==============================] - 0s 66us/step - loss: 0.0023\n",
      "Epoch 6/10\n",
      "759/759 [==============================] - 0s 71us/step - loss: 0.0022\n",
      "Epoch 7/10\n",
      "759/759 [==============================] - 0s 72us/step - loss: 0.0022\n",
      "Epoch 8/10\n",
      "759/759 [==============================] - 0s 63us/step - loss: 0.0021\n",
      "Epoch 9/10\n",
      "759/759 [==============================] - 0s 62us/step - loss: 0.0021\n",
      "Epoch 10/10\n",
      "759/759 [==============================] - 0s 65us/step - loss: 0.0020\n"
     ]
    },
    {
     "data": {
      "text/plain": [
       "<keras.callbacks.History at 0x123fe8f5c18>"
      ]
     },
     "execution_count": 14,
     "metadata": {},
     "output_type": "execute_result"
    }
   ],
   "source": [
    "# Baseline Fully Connected Network\n",
    "\n",
    "model = Sequential()\n",
    "model.add(Dense(units=150, input_dim=300, activation='relu'))\n",
    "model.add(Dense(units=3, activation='sigmoid'))\n",
    "model.compile(loss='mean_squared_error', optimizer='adam')\n",
    "\n",
    "model.fit(X_train, y_train, batch_size=32, epochs=10)"
   ]
  },
  {
   "cell_type": "code",
   "execution_count": null,
   "metadata": {
    "collapsed": true
   },
   "outputs": [],
   "source": []
  },
  {
   "cell_type": "code",
   "execution_count": 15,
   "metadata": {
    "collapsed": false
   },
   "outputs": [
    {
     "name": "stdout",
     "output_type": "stream",
     "text": [
      "_________________________________________________________________\n",
      "Layer (type)                 Output Shape              Param #   \n",
      "=================================================================\n",
      "dense_3 (Dense)              (None, 150)               45150     \n",
      "_________________________________________________________________\n",
      "dense_4 (Dense)              (None, 3)                 453       \n",
      "=================================================================\n",
      "Total params: 45,603\n",
      "Trainable params: 45,603\n",
      "Non-trainable params: 0\n",
      "_________________________________________________________________\n"
     ]
    }
   ],
   "source": [
    "model.summary()"
   ]
  },
  {
   "cell_type": "code",
   "execution_count": null,
   "metadata": {
    "collapsed": true
   },
   "outputs": [],
   "source": []
  },
  {
   "cell_type": "code",
   "execution_count": null,
   "metadata": {
    "collapsed": true
   },
   "outputs": [],
   "source": []
  },
  {
   "cell_type": "code",
   "execution_count": 18,
   "metadata": {
    "collapsed": false
   },
   "outputs": [
    {
     "name": "stdout",
     "output_type": "stream",
     "text": [
      "Epoch 1/10\n",
      "759/759 [==============================] - 0s 552us/step - loss: 0.0235\n",
      "Epoch 2/10\n",
      "759/759 [==============================] - 0s 176us/step - loss: 0.0036\n",
      "Epoch 3/10\n",
      "759/759 [==============================] - 0s 177us/step - loss: 0.0027\n",
      "Epoch 4/10\n",
      "759/759 [==============================] - 0s 191us/step - loss: 0.0026\n",
      "Epoch 5/10\n",
      "759/759 [==============================] - 0s 199us/step - loss: 0.0026\n",
      "Epoch 6/10\n",
      "759/759 [==============================] - 0s 186us/step - loss: 0.0025\n",
      "Epoch 7/10\n",
      "759/759 [==============================] - 0s 184us/step - loss: 0.0024\n",
      "Epoch 8/10\n",
      "759/759 [==============================] - 0s 186us/step - loss: 0.0024\n",
      "Epoch 9/10\n",
      "759/759 [==============================] - 0s 196us/step - loss: 0.0024\n",
      "Epoch 10/10\n",
      "759/759 [==============================] - 0s 217us/step - loss: 0.0024\n"
     ]
    },
    {
     "data": {
      "text/plain": [
       "<keras.callbacks.History at 0x123ffc10b00>"
      ]
     },
     "execution_count": 18,
     "metadata": {},
     "output_type": "execute_result"
    }
   ],
   "source": [
    "X_train = X_train.reshape((X_train.shape[0], 300, 1))\n",
    "X_test = X_test.reshape((X_test.shape[0], 300, 1))\n",
    "\n",
    "# Convolutional Neural Network Architecture with Dropout\n",
    "\n",
    "model = Sequential()\n",
    "\n",
    "model.add(Conv1D(filters=16, kernel_size=5, input_shape=(300, 1), strides=3, padding='same'))\n",
    "model.add(MaxPool1D(pool_size=2))\n",
    "model.add(Dropout(rate=0.2))\n",
    "\n",
    "model.add(Conv1D(filters=32, kernel_size=5, padding='same', strides=3))\n",
    "model.add(MaxPool1D(pool_size=2))\n",
    "model.add(Dropout(rate=0.2))\n",
    "\n",
    "model.add(Flatten())\n",
    "\n",
    "model.add(Dense(units=150, activation='relu'))\n",
    "model.add(Dense(units=3, activation='sigmoid'))\n",
    "\n",
    "model.compile(loss='mean_squared_error', optimizer='adam')\n",
    "\n",
    "model.fit(X_train, y_train, batch_size=32, epochs=10)"
   ]
  },
  {
   "cell_type": "code",
   "execution_count": null,
   "metadata": {
    "collapsed": true
   },
   "outputs": [],
   "source": []
  },
  {
   "cell_type": "code",
   "execution_count": 19,
   "metadata": {
    "collapsed": false
   },
   "outputs": [
    {
     "name": "stdout",
     "output_type": "stream",
     "text": [
      "_________________________________________________________________\n",
      "Layer (type)                 Output Shape              Param #   \n",
      "=================================================================\n",
      "conv1d_1 (Conv1D)            (None, 100, 16)           96        \n",
      "_________________________________________________________________\n",
      "max_pooling1d_1 (MaxPooling1 (None, 50, 16)            0         \n",
      "_________________________________________________________________\n",
      "dropout_1 (Dropout)          (None, 50, 16)            0         \n",
      "_________________________________________________________________\n",
      "conv1d_2 (Conv1D)            (None, 17, 32)            2592      \n",
      "_________________________________________________________________\n",
      "max_pooling1d_2 (MaxPooling1 (None, 8, 32)             0         \n",
      "_________________________________________________________________\n",
      "dropout_2 (Dropout)          (None, 8, 32)             0         \n",
      "_________________________________________________________________\n",
      "flatten_1 (Flatten)          (None, 256)               0         \n",
      "_________________________________________________________________\n",
      "dense_5 (Dense)              (None, 150)               38550     \n",
      "_________________________________________________________________\n",
      "dense_6 (Dense)              (None, 3)                 453       \n",
      "=================================================================\n",
      "Total params: 41,691\n",
      "Trainable params: 41,691\n",
      "Non-trainable params: 0\n",
      "_________________________________________________________________\n"
     ]
    }
   ],
   "source": [
    "model.summary()"
   ]
  },
  {
   "cell_type": "code",
   "execution_count": null,
   "metadata": {
    "collapsed": true
   },
   "outputs": [],
   "source": []
  },
  {
   "cell_type": "code",
   "execution_count": null,
   "metadata": {
    "collapsed": true
   },
   "outputs": [],
   "source": []
  },
  {
   "cell_type": "code",
   "execution_count": null,
   "metadata": {
    "collapsed": true
   },
   "outputs": [],
   "source": []
  }
 ],
 "metadata": {
  "kernelspec": {
   "display_name": "Python [Root]",
   "language": "python",
   "name": "Python [Root]"
  },
  "language_info": {
   "codemirror_mode": {
    "name": "ipython",
    "version": 3
   },
   "file_extension": ".py",
   "mimetype": "text/x-python",
   "name": "python",
   "nbconvert_exporter": "python",
   "pygments_lexer": "ipython3",
   "version": "3.5.2"
  }
 },
 "nbformat": 4,
 "nbformat_minor": 2
}
